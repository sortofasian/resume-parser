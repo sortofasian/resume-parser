{
 "cells": [
  {
   "cell_type": "markdown",
   "metadata": {},
   "source": [
    "# Data Collection"
   ]
  },
  {
   "cell_type": "markdown",
   "metadata": {},
   "source": [
    "### Authorize EMSI Skills calls\n"
   ]
  },
  {
   "cell_type": "code",
   "execution_count": 17,
   "metadata": {},
   "outputs": [],
   "source": [
    "import json\n",
    "import os\n",
    "from requests import request\n",
    "from datetime import datetime, timedelta\n",
    "from time import sleep\n",
    "\n",
    "\n",
    "def authorize():\n",
    "    with open('../config.json', 'r') as auth:\n",
    "        obj = json.load(auth)\n",
    "        clientId = obj['emsi']['id']\n",
    "        clientSecret = obj['emsi']['secret']\n",
    "\n",
    "    url = 'https://auth.emsicloud.com/connect/token'\n",
    "\n",
    "    payload = 'client_id=' + clientId + '&client_secret=' + \\\n",
    "        clientSecret + '&grant_type=client_credentials&scope=emsi_open'\n",
    "    headers = {'Content-Type': 'application/x-www-form-urlencoded'}\n",
    "\n",
    "    response = request('POST', url, data=payload, headers=headers)\n",
    "    token = json.loads(response.text)['access_token']\n",
    "    return {'token': token, 'expires': datetime.now() + timedelta(minutes=55)}\n",
    "\n",
    "\n",
    "def renew(tokenObj={}):\n",
    "    try:\n",
    "        if tokenObj['expires'] > datetime.now():\n",
    "            return authorize()\n",
    "        return tokenObj\n",
    "    except (KeyError):\n",
    "        return authorize()\n",
    "\n",
    "\n",
    "token = renew()\n"
   ]
  },
  {
   "cell_type": "code",
   "execution_count": 18,
   "metadata": {},
   "outputs": [],
   "source": [
    "def header(token):\n",
    "    return {'Authorization': 'Bearer ' + token['token']}\n",
    "\n",
    "\n",
    "baseurl = 'https://emsiservices.com/skills/versions/latest'\n"
   ]
  },
  {
   "cell_type": "markdown",
   "metadata": {},
   "source": [
    "### Fetch all skills\n"
   ]
  },
  {
   "cell_type": "code",
   "execution_count": 13,
   "metadata": {},
   "outputs": [],
   "source": [
    "def printProgressBar(iteration, total, prefix='', suffix='', decimals=1, length=100):\n",
    "    percent = (\"{0:.\" + str(decimals) + \"f}\").format(100 *\n",
    "                                                     (iteration / float(total)))\n",
    "\n",
    "    filledLength = int(length * iteration // total)\n",
    "\n",
    "    bar = '=' * (filledLength - 1) + '>' + '-' * (length - filledLength)\n",
    "\n",
    "    print(f'\\r{prefix} |{bar}| {percent}% {suffix}', end='\\r')\n",
    "\n",
    "    if iteration == total:\n",
    "        print()\n"
   ]
  },
  {
   "cell_type": "code",
   "execution_count": 14,
   "metadata": {},
   "outputs": [],
   "source": [
    "skillIds = request('GET', baseurl+'/skills',\n",
    "                   headers=header(token)).json()['data']\n"
   ]
  },
  {
   "cell_type": "code",
   "execution_count": 19,
   "metadata": {},
   "outputs": [
    {
     "name": "stdout",
     "output_type": "stream",
     "text": [
      " |===================================================================================================>| 100.000% downloaded, skill KS442937527R0CF82H0M 34236/34236\n"
     ]
    }
   ],
   "source": [
    "skills = []\n",
    "\n",
    "lastIndex = 0\n",
    "with open('../results/index.tmp', 'a+') as indexFile:\n",
    "    indexFile.seek(0)\n",
    "    try:\n",
    "        lastIndex = int(indexFile.read())\n",
    "    except(ValueError):\n",
    "        pass\n",
    "\n",
    "    with open('../results/skills.json', 'a+', encoding='utf8') as skillFile:\n",
    "        skillFile.seek(0)\n",
    "        try:\n",
    "            skills = json.load(skillFile)\n",
    "\n",
    "            if skillIds[lastIndex]['id'] != skills[len(skills) - 1]['id']:\n",
    "                lastIndex = 0\n",
    "                skills = []\n",
    "\n",
    "        except(json.JSONDecodeError):\n",
    "            print('No json in skills.json')\n",
    "            lastIndex = 0\n",
    "\n",
    "        for i, skill in enumerate(skillIds):\n",
    "            if i < lastIndex:\n",
    "                continue\n",
    "\n",
    "            skills.append(\n",
    "                request('GET',\n",
    "                        baseurl+'/skills/'+skill['id'],\n",
    "                        headers=header(token))\n",
    "                .json()['data']\n",
    "            )\n",
    "            skillFile.truncate(0)\n",
    "            skillFile.write(json.dumps(skills, indent=2))\n",
    "\n",
    "            indexFile.truncate(0)\n",
    "            indexFile.write(str(i))\n",
    "\n",
    "            printProgressBar(i+1,\n",
    "                             len(skillIds),\n",
    "                             suffix='downloaded, skill '+skill['id']+' '+str(i+1)+'/'+str(len(skillIds)),\n",
    "                             decimals=3)\n",
    "\n",
    "            token = renew(token)\n",
    "            sleep(0.2)  # 5 requests per second max\n",
    "\n",
    "os.remove('../results/index.tmp')\n"
   ]
  },
  {
   "cell_type": "markdown",
   "metadata": {},
   "source": [
    "[**Preprocess data**](./preprocessing.ipynb)"
   ]
  }
 ],
 "metadata": {
  "kernelspec": {
   "display_name": "Python 3.10.5 ('.venv': poetry)",
   "language": "python",
   "name": "python3"
  },
  "language_info": {
   "codemirror_mode": {
    "name": "ipython",
    "version": 3
   },
   "file_extension": ".py",
   "mimetype": "text/x-python",
   "name": "python",
   "nbconvert_exporter": "python",
   "pygments_lexer": "ipython3",
   "version": "3.8.13"
  },
  "orig_nbformat": 4,
  "vscode": {
   "interpreter": {
    "hash": "21c9dd241d50c86c6bbf76717d3fec3673f2a55ccd850aea581da68242d18f7b"
   }
  }
 },
 "nbformat": 4,
 "nbformat_minor": 2
}
