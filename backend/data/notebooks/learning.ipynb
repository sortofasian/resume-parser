{
 "cells": [
  {
   "cell_type": "markdown",
   "id": "6e65525b",
   "metadata": {},
   "source": [
    "[**Preprocess data**](./preprocessing.ipynb)"
   ]
  },
  {
   "cell_type": "markdown",
   "id": "8eab27a7",
   "metadata": {},
   "source": [
    "# Model training"
   ]
  },
  {
   "cell_type": "code",
   "execution_count": 1,
   "id": "3f095f1f-c987-4dff-9e73-818bee0ebbe7",
   "metadata": {
    "tags": []
   },
   "outputs": [],
   "source": [
    "from gensim.models import Phrases, Word2Vec\n",
    "from gensim.models.phrases import ENGLISH_CONNECTOR_WORDS\n",
    "import json"
   ]
  },
  {
   "cell_type": "code",
   "execution_count": 2,
   "id": "e38b9e37",
   "metadata": {},
   "outputs": [],
   "source": [
    "descriptions = []\n",
    "sentences = []\n",
    "\n",
    "with open('../results/descriptions_cleaned.json', 'r') as f:\n",
    "    for description in json.load(f):\n",
    "        descriptions.append(description)\n",
    "\n",
    "    for description in descriptions:\n",
    "        for sentence in description:\n",
    "            sentences.append(sentence)"
   ]
  },
  {
   "cell_type": "code",
   "execution_count": 3,
   "id": "f8b0d1bc",
   "metadata": {},
   "outputs": [],
   "source": [
    "phrases = Phrases(sentences, \n",
    "                min_count=5, \n",
    "                threshold=5, \n",
    "                connector_words=ENGLISH_CONNECTOR_WORDS)\n"
   ]
  },
  {
   "cell_type": "code",
   "execution_count": 4,
   "id": "f7f363e8-905d-42c9-a842-72c1fe5016b6",
   "metadata": {
    "tags": []
   },
   "outputs": [],
   "source": [
    "w2v = Word2Vec(phrases[sentences], \n",
    "            vector_size=300, \n",
    "            window=12, \n",
    "            min_count=2, \n",
    "            workers=12,\n",
    "            alpha=0.05,\n",
    "            epochs=5,\n",
    "            sample=1e-4,\n",
    "            sg=1,\n",
    "            hs=0,\n",
    "            negative=25)"
   ]
  },
  {
   "cell_type": "markdown",
   "id": "233c169c",
   "metadata": {},
   "source": [
    "# Model evaluation"
   ]
  },
  {
   "cell_type": "code",
   "execution_count": 5,
   "id": "d6060b04-1a1c-4289-9758-8eeb6ac07a38",
   "metadata": {
    "scrolled": false,
    "tags": []
   },
   "outputs": [
    {
     "data": {
      "text/html": [
       "<div>\n",
       "<style scoped>\n",
       "    .dataframe tbody tr th:only-of-type {\n",
       "        vertical-align: middle;\n",
       "    }\n",
       "\n",
       "    .dataframe tbody tr th {\n",
       "        vertical-align: top;\n",
       "    }\n",
       "\n",
       "    .dataframe thead th {\n",
       "        text-align: right;\n",
       "    }\n",
       "</style>\n",
       "<table border=\"1\" class=\"dataframe\">\n",
       "  <thead>\n",
       "    <tr style=\"text-align: right;\">\n",
       "      <th></th>\n",
       "      <th>0</th>\n",
       "      <th>1</th>\n",
       "    </tr>\n",
       "  </thead>\n",
       "  <tbody>\n",
       "    <tr>\n",
       "      <th>0</th>\n",
       "      <td>kubernetes</td>\n",
       "      <td>0.952206</td>\n",
       "    </tr>\n",
       "    <tr>\n",
       "      <th>1</th>\n",
       "      <td>build_deploy</td>\n",
       "      <td>0.909096</td>\n",
       "    </tr>\n",
       "    <tr>\n",
       "      <th>2</th>\n",
       "      <td>orchestration</td>\n",
       "      <td>0.906988</td>\n",
       "    </tr>\n",
       "    <tr>\n",
       "      <th>3</th>\n",
       "      <td>virtualbox</td>\n",
       "      <td>0.901637</td>\n",
       "    </tr>\n",
       "    <tr>\n",
       "      <th>4</th>\n",
       "      <td>ansible</td>\n",
       "      <td>0.892773</td>\n",
       "    </tr>\n",
       "    <tr>\n",
       "      <th>5</th>\n",
       "      <td>esxi</td>\n",
       "      <td>0.891560</td>\n",
       "    </tr>\n",
       "    <tr>\n",
       "      <th>6</th>\n",
       "      <td>platform_enterprise</td>\n",
       "      <td>0.885536</td>\n",
       "    </tr>\n",
       "    <tr>\n",
       "      <th>7</th>\n",
       "      <td>paas</td>\n",
       "      <td>0.885465</td>\n",
       "    </tr>\n",
       "    <tr>\n",
       "      <th>8</th>\n",
       "      <td>kvm</td>\n",
       "      <td>0.883932</td>\n",
       "    </tr>\n",
       "    <tr>\n",
       "      <th>9</th>\n",
       "      <td>vsphere</td>\n",
       "      <td>0.883432</td>\n",
       "    </tr>\n",
       "    <tr>\n",
       "      <th>10</th>\n",
       "      <td>vcenter</td>\n",
       "      <td>0.879417</td>\n",
       "    </tr>\n",
       "    <tr>\n",
       "      <th>11</th>\n",
       "      <td>qemu</td>\n",
       "      <td>0.879267</td>\n",
       "    </tr>\n",
       "    <tr>\n",
       "      <th>12</th>\n",
       "      <td>level_virtualization</td>\n",
       "      <td>0.871871</td>\n",
       "    </tr>\n",
       "    <tr>\n",
       "      <th>13</th>\n",
       "      <td>rich_client</td>\n",
       "      <td>0.871356</td>\n",
       "    </tr>\n",
       "    <tr>\n",
       "      <th>14</th>\n",
       "      <td>wercker</td>\n",
       "      <td>0.871210</td>\n",
       "    </tr>\n",
       "    <tr>\n",
       "      <th>15</th>\n",
       "      <td>mks</td>\n",
       "      <td>0.870479</td>\n",
       "    </tr>\n",
       "    <tr>\n",
       "      <th>16</th>\n",
       "      <td>xenserver</td>\n",
       "      <td>0.870240</td>\n",
       "    </tr>\n",
       "    <tr>\n",
       "      <th>17</th>\n",
       "      <td>jelastic</td>\n",
       "      <td>0.868658</td>\n",
       "    </tr>\n",
       "    <tr>\n",
       "      <th>18</th>\n",
       "      <td>infrastructure_service</td>\n",
       "      <td>0.867977</td>\n",
       "    </tr>\n",
       "    <tr>\n",
       "      <th>19</th>\n",
       "      <td>che</td>\n",
       "      <td>0.867725</td>\n",
       "    </tr>\n",
       "  </tbody>\n",
       "</table>\n",
       "</div>"
      ],
      "text/plain": [
       "                         0         1\n",
       "0               kubernetes  0.952206\n",
       "1             build_deploy  0.909096\n",
       "2            orchestration  0.906988\n",
       "3               virtualbox  0.901637\n",
       "4                  ansible  0.892773\n",
       "5                     esxi  0.891560\n",
       "6      platform_enterprise  0.885536\n",
       "7                     paas  0.885465\n",
       "8                      kvm  0.883932\n",
       "9                  vsphere  0.883432\n",
       "10                 vcenter  0.879417\n",
       "11                    qemu  0.879267\n",
       "12    level_virtualization  0.871871\n",
       "13             rich_client  0.871356\n",
       "14                 wercker  0.871210\n",
       "15                     mks  0.870479\n",
       "16               xenserver  0.870240\n",
       "17                jelastic  0.868658\n",
       "18  infrastructure_service  0.867977\n",
       "19                     che  0.867725"
      ]
     },
     "execution_count": 5,
     "metadata": {},
     "output_type": "execute_result"
    }
   ],
   "source": [
    "w2v.wv.most_similar(positive=[\"docker\"], topn=20)"
   ]
  },
  {
   "cell_type": "markdown",
   "id": "e34595dd",
   "metadata": {},
   "source": [
    "## Model export"
   ]
  },
  {
   "cell_type": "code",
   "execution_count": 9,
   "id": "3d05df35",
   "metadata": {},
   "outputs": [],
   "source": [
    "phrases.save('../models/phrases/phrases.model')\n",
    "w2v.save('../models/word2vec/word2vec.model')"
   ]
  },
  {
   "cell_type": "markdown",
   "id": "88964568-fa73-4a64-b931-081229a1f641",
   "metadata": {},
   "source": [
    "combine words seen together often - Done\n",
    "\n",
    "Todo:\n",
    "\n",
    "double check and refine preprocessing\n",
    "\n",
    "experiment with lstm: https://confusedcoders.com/wp-content/uploads/2019/09/Job-Skills-extraction-with-LSTM-and-Word-Embeddings-Nikita-Sharma.pdf"
   ]
  }
 ],
 "metadata": {
  "kernelspec": {
   "display_name": "Python 3 (ipykernel)",
   "language": "python",
   "name": "python3"
  },
  "language_info": {
   "codemirror_mode": {
    "name": "ipython",
    "version": 3
   },
   "file_extension": ".py",
   "mimetype": "text/x-python",
   "name": "python",
   "nbconvert_exporter": "python",
   "pygments_lexer": "ipython3",
   "version": "3.8.13"
  },
  "vscode": {
   "interpreter": {
    "hash": "21c9dd241d50c86c6bbf76717d3fec3673f2a55ccd850aea581da68242d18f7b"
   }
  }
 },
 "nbformat": 4,
 "nbformat_minor": 5
}
