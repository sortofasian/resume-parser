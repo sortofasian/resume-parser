{
 "cells": [
  {
   "cell_type": "markdown",
   "metadata": {},
   "source": [
    "[**Data Collection**](./mining.ipynb)"
   ]
  },
  {
   "cell_type": "markdown",
   "metadata": {},
   "source": [
    "# Data Cleaning"
   ]
  },
  {
   "cell_type": "code",
   "execution_count": 33,
   "metadata": {},
   "outputs": [],
   "source": [
    "import json\n",
    "import unicodedata as uni\n",
    "from gensim.parsing import preprocessing as prep\n",
    "\n",
    "descriptions = []\n",
    "with open('../results/skills.json', 'r', encoding=\"utf8\") as file:\n",
    "    dirty = file.read()\n",
    "    clean = uni.normalize('NFKD', dirty).encode('ascii', 'ignore')\n",
    "\n",
    "    skills = json.loads(clean)\n",
    "    for skill in skills:\n",
    "        if skill['description']:\n",
    "            temp = skill['description']\n",
    "            temp = temp.lower()\n",
    "            temp = temp.split('. ')\n",
    "\n",
    "            description = []\n",
    "            for sentence in temp:\n",
    "                sentence = prep.preprocess_string(sentence, filters=[\n",
    "                    prep.remove_stopwords,\n",
    "                    prep.strip_punctuation,\n",
    "                    prep.strip_multiple_whitespaces,\n",
    "                    prep.strip_numeric\n",
    "                ])\n",
    "                description.append(sentence)\n",
    "            descriptions.append(description)\n",
    "    with open('../results/descriptions_cleaned.json', 'w') as clean_descriptions:\n",
    "        clean_descriptions.write(json.dumps(descriptions, indent=2))\n"
   ]
  },
  {
   "cell_type": "markdown",
   "metadata": {},
   "source": [
    "[**ML Model Training**](./learning.ipynb)"
   ]
  }
 ],
 "metadata": {
  "kernelspec": {
   "display_name": "Python 3.10.5 ('.venv': poetry)",
   "language": "python",
   "name": "python3"
  },
  "language_info": {
   "codemirror_mode": {
    "name": "ipython",
    "version": 3
   },
   "file_extension": ".py",
   "mimetype": "text/x-python",
   "name": "python",
   "nbconvert_exporter": "python",
   "pygments_lexer": "ipython3",
   "version": "3.8.13"
  },
  "orig_nbformat": 4,
  "vscode": {
   "interpreter": {
    "hash": "21c9dd241d50c86c6bbf76717d3fec3673f2a55ccd850aea581da68242d18f7b"
   }
  }
 },
 "nbformat": 4,
 "nbformat_minor": 2
}
